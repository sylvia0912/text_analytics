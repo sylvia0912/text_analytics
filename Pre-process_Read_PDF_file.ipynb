{
 "cells": [
  {
   "cell_type": "markdown",
   "metadata": {
    "id": "Hf3sW8xww6S8"
   },
   "source": [
    "# Reading PDF files in Python\n",
    "* Reading text data from PDF files\n",
    "* Extract page-wise text content in a PDF file\n",
    "* Create corpus using text data from multiple PDF files "
   ]
  },
  {
   "cell_type": "code",
   "execution_count": 1,
   "metadata": {},
   "outputs": [
    {
     "data": {
      "text/plain": [
       "'/Users/sylvia/Desktop/IITR/M6_text_analytics/Times_Demo_Videos'"
      ]
     },
     "execution_count": 1,
     "metadata": {},
     "output_type": "execute_result"
    }
   ],
   "source": [
    "pwd"
   ]
  },
  {
   "cell_type": "code",
   "execution_count": 2,
   "metadata": {
    "id": "YKHNApB0xOhq"
   },
   "outputs": [],
   "source": [
    "# !pip install -U -q PyDrive\n",
    "# from pydrive.auth import GoogleAuth\n",
    "# from pydrive.drive import GoogleDrive\n",
    "# from google.colab import auth\n",
    "# from oauth2client.client import GoogleCredentials"
   ]
  },
  {
   "cell_type": "code",
   "execution_count": 3,
   "metadata": {
    "id": "MCgqob0Gxcy1"
   },
   "outputs": [],
   "source": [
    "# auth.authenticate_user()\n",
    "# gauth = GoogleAuth()\n",
    "# gauth.credentials = GoogleCredentials.get_application_default()\n",
    "# drive = GoogleDrive(gauth)"
   ]
  },
  {
   "cell_type": "code",
   "execution_count": 4,
   "metadata": {
    "id": "utf7emiHxfau"
   },
   "outputs": [],
   "source": [
    "# downloaded = drive.CreateFile({'id':'1FjJzaLd-qxFTv61J1oZNLpTtL5oYH7xI'}) # replace the id with id of file you want to access\n",
    "# downloaded.GetContentFile('CommunicationAffectAndLearning.pdf') "
   ]
  },
  {
   "cell_type": "code",
   "execution_count": 5,
   "metadata": {
    "colab": {
     "base_uri": "https://localhost:8080/"
    },
    "executionInfo": {
     "elapsed": 8217,
     "status": "ok",
     "timestamp": 1611082423999,
     "user": {
      "displayName": "Varun Rana",
      "photoUrl": "",
      "userId": "00188788562004174296"
     },
     "user_tz": -330
    },
    "id": "PddIeSK9yMhA",
    "outputId": "630cc28e-095b-4bf4-db32-945700be2b34"
   },
   "outputs": [],
   "source": [
    "# !pip install PyPDF2"
   ]
  },
  {
   "cell_type": "markdown",
   "metadata": {},
   "source": [
    "PyPDF2 to read PDF content in Python."
   ]
  },
  {
   "cell_type": "code",
   "execution_count": 6,
   "metadata": {
    "colab": {
     "base_uri": "https://localhost:8080/"
    },
    "executionInfo": {
     "elapsed": 8206,
     "status": "ok",
     "timestamp": 1611082424001,
     "user": {
      "displayName": "Varun Rana",
      "photoUrl": "",
      "userId": "00188788562004174296"
     },
     "user_tz": -330
    },
    "id": "PeabgHRNx_Wb",
    "outputId": "aaabad18-9b10-4ed6-a106-5bee35debb57"
   },
   "outputs": [],
   "source": [
    "import PyPDF2\n",
    "\n",
    "\n",
    "# path = 'CommunicationAffectAndLearning.pdf'\n",
    "# pdf = PyPDF2.PdfFileReader(open(path, 'rb')) \n",
    "\n",
    "# Invoking a pdf file reader; using open to read the file in binary using 'rb'    \n"
   ]
  },
  {
   "cell_type": "markdown",
   "metadata": {},
   "source": [
    "Open a file and get its handler. File opened in 'rb' mode which is read binary mode."
   ]
  },
  {
   "cell_type": "code",
   "execution_count": 7,
   "metadata": {},
   "outputs": [
    {
     "name": "stderr",
     "output_type": "stream",
     "text": [
      "Xref table not zero-indexed. ID numbers for objects will be corrected.\n"
     ]
    }
   ],
   "source": [
    "path = '/Users/sylvia/Desktop/datasets/CommunicationAffectAndLearning.pdf'\n",
    "pdf = PyPDF2.PdfFileReader(open(path, 'rb')) \n",
    "\n",
    "#Invoking a pdf file reader; using open to read the file in binary using 'rb'"
   ]
  },
  {
   "cell_type": "code",
   "execution_count": 8,
   "metadata": {
    "colab": {
     "base_uri": "https://localhost:8080/"
    },
    "executionInfo": {
     "elapsed": 8194,
     "status": "ok",
     "timestamp": 1611082424002,
     "user": {
      "displayName": "Varun Rana",
      "photoUrl": "",
      "userId": "00188788562004174296"
     },
     "user_tz": -330
    },
    "id": "a15WJDu7yJ3n",
    "outputId": "568faf09-1f07-47be-dd8f-89797a36f6de"
   },
   "outputs": [
    {
     "data": {
      "text/plain": [
       "267"
      ]
     },
     "execution_count": 8,
     "metadata": {},
     "output_type": "execute_result"
    }
   ],
   "source": [
    "# using an attribute numPages to know number of pages in pdf\n",
    "pdf.numPages"
   ]
  },
  {
   "cell_type": "code",
   "execution_count": 9,
   "metadata": {
    "colab": {
     "base_uri": "https://localhost:8080/"
    },
    "executionInfo": {
     "elapsed": 8179,
     "status": "ok",
     "timestamp": 1611082424003,
     "user": {
      "displayName": "Varun Rana",
      "photoUrl": "",
      "userId": "00188788562004174296"
     },
     "user_tz": -330
    },
    "id": "jkB9AWDEyuHR",
    "outputId": "3bb80f57-8cc3-453b-db18-0e0e234919e7"
   },
   "outputs": [
    {
     "name": "stdout",
     "output_type": "stream",
     "text": [
      "Owner\n",
      "Microsoft Word - Communication Affect and Learning.doc\n"
     ]
    }
   ],
   "source": [
    "# Using a method to get the info of the doc\n",
    "info = pdf.getDocumentInfo()\n",
    "print(info.author)\n",
    "print(info.title)"
   ]
  },
  {
   "cell_type": "markdown",
   "metadata": {
    "id": "X93DOy-B4U-O"
   },
   "source": [
    "### Extract the text and read"
   ]
  },
  {
   "cell_type": "markdown",
   "metadata": {},
   "source": [
    "- We read the pdf file by pages.\n",
    "- This extractText() returns a byte object that's y u see b' written in front of any text you read."
   ]
  },
  {
   "cell_type": "code",
   "execution_count": 10,
   "metadata": {},
   "outputs": [
    {
     "data": {
      "text/plain": [
       "b''"
      ]
     },
     "execution_count": 10,
     "metadata": {},
     "output_type": "execute_result"
    }
   ],
   "source": [
    "# To read the first page\n",
    "\n",
    "page = pdf.getPage(0)\n",
    "# View as text\n",
    "text = page.extractText().encode('utf-8') # extracting and encoding\n",
    "text\n",
    "\n",
    "# We see first page is empty"
   ]
  },
  {
   "cell_type": "code",
   "execution_count": 11,
   "metadata": {},
   "outputs": [
    {
     "data": {
      "text/plain": [
       "b'      Communication, Affect, & Learning in the Classroom \\n   Jason S. Wrench Virginia Peck Richmond Joan Gorham \\n '"
      ]
     },
     "execution_count": 11,
     "metadata": {},
     "output_type": "execute_result"
    }
   ],
   "source": [
    "page = pdf.getPage(1)   # 2nd pg\n",
    "# View as text\n",
    "text = page.extractText().encode('utf-8') # extracting and encoding\n",
    "text"
   ]
  },
  {
   "cell_type": "code",
   "execution_count": 12,
   "metadata": {},
   "outputs": [
    {
     "data": {
      "text/plain": [
       "b' Copyright \\xc2\\xa9 2009 by Virginia Peck Richmond, Jason S. Wrench, and Joan Gorham All rights reserved. Printed in the United States of America.    This work is licensed under the Creative Commons Attribution-Noncommercial-No Derivative Works 3.0 United States License.   To view a copy of this license, visit http://creativecommons.org/licenses/by-nc-nd/3.0/us/ or send a letter to Creative Commons, 171 Second Street, Suite 300, San Francisco, California, 94105, USA.   All research measures utilized within this textbook are copyrighted by the measure\\xe2\\x80\\x99s original creators and used by permission within this text. Please contact the measure\\xe2\\x80\\x99s original creator for licensing information.               1st Edition printed by Burgess Publishing, Edina, MN, in 1992 (ISBN: 0-80874-699-5) 2\\nnd Edition printed by Tapestry Press, Acton, MA, in 2001 (ISBN: 1-56888-548-2)'"
      ]
     },
     "execution_count": 12,
     "metadata": {},
     "output_type": "execute_result"
    }
   ],
   "source": [
    "page = pdf.getPage(2)   # 3rd pg\n",
    "# View as text\n",
    "text = page.extractText().encode('utf-8') # extracting and encoding\n",
    "text"
   ]
  },
  {
   "cell_type": "markdown",
   "metadata": {},
   "source": [
    "page.extractText() returns a byte object."
   ]
  },
  {
   "cell_type": "code",
   "execution_count": 13,
   "metadata": {
    "colab": {
     "base_uri": "https://localhost:8080/"
    },
    "executionInfo": {
     "elapsed": 8156,
     "status": "ok",
     "timestamp": 1611082424006,
     "user": {
      "displayName": "Varun Rana",
      "photoUrl": "",
      "userId": "00188788562004174296"
     },
     "user_tz": -330
    },
    "id": "3p2EwE1S4Syg",
    "outputId": "bfe153fa-cf14-4860-da69-bce995ffd482"
   },
   "outputs": [
    {
     "data": {
      "text/plain": [
       "bytes"
      ]
     },
     "execution_count": 13,
     "metadata": {},
     "output_type": "execute_result"
    }
   ],
   "source": [
    "# page.extractText().encode('utf-8') return a byte object\n",
    "type(text)"
   ]
  },
  {
   "cell_type": "markdown",
   "metadata": {
    "id": "6Rsf-8HK6BKY"
   },
   "source": [
    "### Convert the byte object to string type using function decode so u can do string operations on top of the text data."
   ]
  },
  {
   "cell_type": "markdown",
   "metadata": {},
   "source": [
    "decode function to convert bytes to string format."
   ]
  },
  {
   "cell_type": "code",
   "execution_count": 14,
   "metadata": {
    "colab": {
     "base_uri": "https://localhost:8080/",
     "height": 119
    },
    "executionInfo": {
     "elapsed": 8143,
     "status": "ok",
     "timestamp": 1611082424007,
     "user": {
      "displayName": "Varun Rana",
      "photoUrl": "",
      "userId": "00188788562004174296"
     },
     "user_tz": -330
    },
    "id": "QDkyiGqr5Q59",
    "outputId": "93953ec9-ceca-4cc0-9e87-ec50141b3cfc"
   },
   "outputs": [
    {
     "name": "stdout",
     "output_type": "stream",
     "text": [
      "<class 'str'>\n",
      "\n",
      "  Copyright © 2009 by Virginia Peck Richmond, Jason S. Wrench, and Joan Gorham All rights reserved. Printed in the United States of America.    This work is licensed under the Creative Commons Attribution-Noncommercial-No Derivative Works 3.0 United States License.   To view a copy of this license, visit http://creativecommons.org/licenses/by-nc-nd/3.0/us/ or send a letter to Creative Commons, 171 Second Street, Suite 300, San Francisco, California, 94105, USA.   All research measures utilized within this textbook are copyrighted by the measure’s original creators and used by permission within this text. Please contact the measure’s original creator for licensing information.               1st Edition printed by Burgess Publishing, Edina, MN, in 1992 (ISBN: 0-80874-699-5) 2\n",
      "nd Edition printed by Tapestry Press, Acton, MA, in 2001 (ISBN: 1-56888-548-2)\n"
     ]
    }
   ],
   "source": [
    "page = pdf.getPage(2)\n",
    "text = page.extractText().encode('utf-8').decode('utf-8')\n",
    "print(type(text))\n",
    "print('\\n',text)"
   ]
  },
  {
   "cell_type": "markdown",
   "metadata": {
    "id": "0Xk8h5TV9tPt"
   },
   "source": [
    "## Read whole pdf at once - each page will be a document/string. "
   ]
  },
  {
   "cell_type": "code",
   "execution_count": 15,
   "metadata": {
    "id": "1kbWg5XG8tVq"
   },
   "outputs": [],
   "source": [
    "read_pages = lambda pdf, pg_num : pdf.getPage(pg_num).extractText().encode('utf-8').decode('utf-8') \n",
    "\n",
    "# lambda fn taking two parameters(pdf is filehandler, pg_num is page no which we want to read) \n",
    "# lambda fn uses filehandler(pdf) to take page no and extract text out of it after converting \n",
    "# it into a string format\n",
    "\n",
    "pages = [read_pages(pdf, x) for x in range(pdf.numPages)]    # List comprehension"
   ]
  },
  {
   "cell_type": "code",
   "execution_count": 16,
   "metadata": {
    "colab": {
     "base_uri": "https://localhost:8080/"
    },
    "executionInfo": {
     "elapsed": 11997,
     "status": "ok",
     "timestamp": 1611082427897,
     "user": {
      "displayName": "Varun Rana",
      "photoUrl": "",
      "userId": "00188788562004174296"
     },
     "user_tz": -330
    },
    "id": "o0zqMLFq_vwB",
    "outputId": "213d1d0f-a524-4d76-d158-80ecba1ba432"
   },
   "outputs": [
    {
     "data": {
      "text/plain": [
       "267"
      ]
     },
     "execution_count": 16,
     "metadata": {},
     "output_type": "execute_result"
    }
   ],
   "source": [
    "len(pages)"
   ]
  },
  {
   "cell_type": "markdown",
   "metadata": {},
   "source": [
    "So we have 267 strings. Each page is a string now."
   ]
  },
  {
   "cell_type": "code",
   "execution_count": 17,
   "metadata": {
    "colab": {
     "base_uri": "https://localhost:8080/",
     "height": 120
    },
    "executionInfo": {
     "elapsed": 11972,
     "status": "ok",
     "timestamp": 1611082427900,
     "user": {
      "displayName": "Varun Rana",
      "photoUrl": "",
      "userId": "00188788562004174296"
     },
     "user_tz": -330
    },
    "id": "TyilEFhxAnJW",
    "outputId": "5ae9ae50-d505-4d60-bf92-aa4a20f7a178"
   },
   "outputs": [
    {
     "data": {
      "text/plain": [
       "' \\n TABLE OF CONTENTS \\n P r e f a c e            i   1.  Teaching As a Communication Process      0 0 1   The Instructional Communication Process  The Teacher  The Content  The Instructional Strategy  The Student  The Feedback/Evaluation   The Learning Environment/Instructional Context  Kibler’s Model of Instruction  The ADDIE Model of Instructional Design  2. Communicating With Instructional Objectives    017  Why Some Teachers Resent Objectives  The Value of Objectives  What Objectives Should Communicate  3. Instructional Communication Strategies     028  The Teacher As a Speaker  The Teacher As a Moderator  The Teacher As a Trainer  The Teacher As a Manager  The Teacher As a Coordinator & Innovator   4.  Communication, Affect, and Student Needs     042  Measuring Student Affect  Basic Academic Needs of Students  Traditional Interpersonal Need Models   Outcomes of Meeting Student Needs  5 .   L e a r n i n g  S t y l e s          0 5 9   What is Learning Style? '"
      ]
     },
     "execution_count": 17,
     "metadata": {},
     "output_type": "execute_result"
    }
   ],
   "source": [
    "pages[3]"
   ]
  },
  {
   "cell_type": "code",
   "execution_count": 18,
   "metadata": {
    "colab": {
     "base_uri": "https://localhost:8080/",
     "height": 120
    },
    "executionInfo": {
     "elapsed": 11958,
     "status": "ok",
     "timestamp": 1611082427901,
     "user": {
      "displayName": "Varun Rana",
      "photoUrl": "",
      "userId": "00188788562004174296"
     },
     "user_tz": -330
    },
    "id": "hXYSIPhXAvdD",
    "outputId": "6765fb66-b3e3-4feb-ae97-ce1aff098859"
   },
   "outputs": [
    {
     "data": {
      "text/plain": [
       "' \\nChapter One - 3 riffs, and putting them together made really fine music. His friends find this very impressive, and Spike can\\'t wait to learn more.  What have these three piano teachers communicated to their students? Grady\\'s teacher taught him to dislike studying piano, that playing the piano was hard work and no fun. Grady probably also learned that studying music is a pain and should be avoided in the future. He may avoid trying out for the band or chorus in school, and he may have already learned to associate music itself with unpleasantness so that he will not even choose to listen to much music as he grows older. Since it is very unlikely that these were the objectives of Grady\\'s teacher, we must question that teacher\\'s ability to utilize the instructional communication process effectively. Roxanne\\'s teacher was somewhat more effective. Roxanne learned that music can be fun and enjoyable, but she also learned that she had very little musical ability. Her self-esteem as a musician is low. It is unlikely Roxanne will take any more music lessons, piano or otherwise. She also is unlikely to take the risk of looking bad by joining the band or the chorus in school later. But she is likely to appreciate listening to music. She may even be willing to sign up for music appreciation classes. Certainly, she will collect albums in the future. If Roxanne\\'s teacher\\'s goal was to teach her to play the piano, the teacher wasn’t successful. However, if the goal was to get Roxanne to enjoy music, the goal was achieved. Future teachers will not have to deal with a student who dislikes music, but they may have a difficult time getting Roxanne to try performing again. Spike\\'s second teacher certainly was more successful with the instructional communication process than his first one. Spike likes playing the piano and wants to learn more. He is \"ready\" for that or another teacher to guide him to higher levels of learning. However, Spike may now associate his ability to play the piano with peer respect, so we don\\'t know how he will respond if he plays something for them that is \"sophisticated\" or \"high brow,\" and they do not like it. Nevertheless, this teacher has demonstrated effective use of the instructional communication process.  Within these examples, there are several variables at work: the teacher, the content of the lessons, the instructional strategy, the student, feedback or evaluation, and the learning environment or context in which instruction occurs. Working together, these elements define the instructional communication process.    '"
      ]
     },
     "execution_count": 18,
     "metadata": {},
     "output_type": "execute_result"
    }
   ],
   "source": [
    "pages[15]"
   ]
  },
  {
   "cell_type": "markdown",
   "metadata": {
    "id": "ssQTox56CkKp"
   },
   "source": [
    "## Join multiples pages\n",
    "* sometimes we have to use multiple pdf's so in that case each pdf content will be available in a single string to form a document and another string coming from another pdf to form 2nd document.\n",
    "* So above although every page is a document (1 page as 1 string) because there is a single pdf however if there are multiple pdf then each pdf should be a 1 document (1 pdf as 1 string) then 658326 words would be a single string.\n",
    "* Every document will always come in form of a single string."
   ]
  },
  {
   "cell_type": "code",
   "execution_count": 19,
   "metadata": {
    "colab": {
     "base_uri": "https://localhost:8080/"
    },
    "executionInfo": {
     "elapsed": 11945,
     "status": "ok",
     "timestamp": 1611082427902,
     "user": {
      "displayName": "Varun Rana",
      "photoUrl": "",
      "userId": "00188788562004174296"
     },
     "user_tz": -330
    },
    "id": "esI1ui1oAzML",
    "outputId": "1ed6d213-8f0a-4d70-fbc6-11df3ad3b295"
   },
   "outputs": [
    {
     "data": {
      "text/plain": [
       "644684"
      ]
     },
     "execution_count": 19,
     "metadata": {},
     "output_type": "execute_result"
    }
   ],
   "source": [
    "one_pdf = ' '.join(pages) # Combining all the pages together using join fn by providing it a space; \n",
    "                          #Every page will have and additional space b/w them.   \n",
    "len(one_pdf)"
   ]
  },
  {
   "cell_type": "markdown",
   "metadata": {},
   "source": [
    "One pdf will act like a single document in case u r reading multiple pdf's together (can be called a corpus)"
   ]
  },
  {
   "cell_type": "markdown",
   "metadata": {
    "id": "EcYwgvS9DS--"
   },
   "source": [
    "# Read all PDFs and create corpus"
   ]
  },
  {
   "cell_type": "code",
   "execution_count": 20,
   "metadata": {
    "id": "_ei9AqCGFK0b"
   },
   "outputs": [],
   "source": [
    "# !pip install -U -q PyDrive\n",
    "# from pydrive.auth import GoogleAuth\n",
    "# from pydrive.drive import GoogleDrive\n",
    "# from google.colab import auth\n",
    "# from oauth2client.client import GoogleCredentials"
   ]
  },
  {
   "cell_type": "code",
   "execution_count": 21,
   "metadata": {
    "id": "Rdme7cwpFLBB"
   },
   "outputs": [],
   "source": [
    "# auth.authenticate_user()\n",
    "# gauth = GoogleAuth()\n",
    "# gauth.credentials = GoogleCredentials.get_application_default()\n",
    "# drive = GoogleDrive(gauth)"
   ]
  },
  {
   "cell_type": "code",
   "execution_count": 22,
   "metadata": {
    "id": "967VXCC0E1Yp"
   },
   "outputs": [],
   "source": [
    "#  # replace the id with id of file you want to access\n",
    "# downloaded = drive.CreateFile({'id':'12E3xUHTnEgkX3z-PrX4bGzDHiJshydv4'})\n",
    "# downloaded.GetContentFile('How to Measure Anything.pdf') "
   ]
  },
  {
   "cell_type": "code",
   "execution_count": 23,
   "metadata": {
    "id": "Fvpw0T4Z_IcO"
   },
   "outputs": [],
   "source": [
    "# !pip install -U -q PyDrive\n",
    "# from pydrive.auth import GoogleAuth\n",
    "# from pydrive.drive import GoogleDrive\n",
    "# from google.colab import auth\n",
    "# from oauth2client.client import GoogleCredentials"
   ]
  },
  {
   "cell_type": "code",
   "execution_count": 24,
   "metadata": {
    "id": "szza8YIR_ImB"
   },
   "outputs": [],
   "source": [
    "# auth.authenticate_user()\n",
    "# gauth = GoogleAuth()\n",
    "# gauth.credentials = GoogleCredentials.get_application_default()\n",
    "# drive = GoogleDrive(gauth)"
   ]
  },
  {
   "cell_type": "code",
   "execution_count": 25,
   "metadata": {
    "id": "NAOAvzKy_OTz"
   },
   "outputs": [],
   "source": [
    "# downloaded = drive.CreateFile({'id':'1xmcwhXmHHT5S9cMo_iYjltY1UUFx5JpM'})\n",
    "# downloaded.GetContentFile('everythingfinance.pdf') "
   ]
  },
  {
   "cell_type": "markdown",
   "metadata": {},
   "source": [
    "***.pdf referring to all pdf's present in the folder.**"
   ]
  },
  {
   "cell_type": "code",
   "execution_count": 26,
   "metadata": {
    "colab": {
     "base_uri": "https://localhost:8080/"
    },
    "executionInfo": {
     "elapsed": 21273,
     "status": "ok",
     "timestamp": 1611082437291,
     "user": {
      "displayName": "Varun Rana",
      "photoUrl": "",
      "userId": "00188788562004174296"
     },
     "user_tz": -330
    },
    "id": "eGXScpu-CUrc",
    "outputId": "acad28fe-d0d3-4564-c42f-bf4266ac29f0"
   },
   "outputs": [
    {
     "data": {
      "text/plain": [
       "['/Users/sylvia/Desktop/datasets/books/everythingfinance.pdf',\n",
       " '/Users/sylvia/Desktop/datasets/books/How to Measure Anything.pdf',\n",
       " '/Users/sylvia/Desktop/datasets/books/CommunicationAffectAndLearning.pdf']"
      ]
     },
     "execution_count": 26,
     "metadata": {},
     "output_type": "execute_result"
    }
   ],
   "source": [
    "import glob # used for getting all the pdfs filenames from drive \n",
    "path_search = '/Users/sylvia/Desktop/datasets/books/*.pdf'\n",
    "path_pdf_files = glob.glob(path_search)\n",
    "path_pdf_files"
   ]
  },
  {
   "cell_type": "markdown",
   "metadata": {
    "id": "L_DRFNYG2KxC"
   },
   "source": [
    "# Create a corpus"
   ]
  },
  {
   "cell_type": "markdown",
   "metadata": {},
   "source": [
    "- We have multiple pdf's so each pdf will be a document (a single string).\n",
    "- Collection of documents will be a corpus.\n",
    "- docs corpus below will have all individual pdf's content in the form of strings."
   ]
  },
  {
   "cell_type": "code",
   "execution_count": 27,
   "metadata": {
    "colab": {
     "base_uri": "https://localhost:8080/"
    },
    "executionInfo": {
     "elapsed": 27142,
     "status": "ok",
     "timestamp": 1611082443171,
     "user": {
      "displayName": "Varun Rana",
      "photoUrl": "",
      "userId": "00188788562004174296"
     },
     "user_tz": -330
    },
    "id": "yp-ZPFFP1bSJ",
    "outputId": "d937c4c5-4b59-46eb-fbe7-b095d16631bf"
   },
   "outputs": [
    {
     "name": "stderr",
     "output_type": "stream",
     "text": [
      "/Users/sylvia/opt/anaconda3/envs/TF1/lib/python3.7/site-packages/PyPDF2/_cmap.py:136: PdfReadWarning: Advanced encoding /Identity#2dH not implemented yet\n",
      "  PdfReadWarning,\n",
      "Xref table not zero-indexed. ID numbers for objects will be corrected.\n"
     ]
    }
   ],
   "source": [
    "docs = [] # creating empty list named docs (it is like corpus), list will contain 3 strings/docs; Each pdf is 1 string\n",
    "read_pages1 = lambda pdf, pg_num : pdf.getPage(pg_num).extractText().encode('utf-8').decode('utf-8') \n",
    "\n",
    "\n",
    "\n",
    "# lambda fn taking two parameters(pdf is filehandler, pg_num is page no which we want to read) \n",
    "# lambda fn uses filehandler(pdf) to take page no and extract text out of it after converting it into a string format\n",
    "for x in path_pdf_files:\n",
    "  pdf = PyPDF2.PdfFileReader(open(x, 'rb'))\n",
    "  pages = [read_pages1(pdf, i) for i in range(pdf.numPages)]\n",
    "  doc = '\\n'.join(pages)\n",
    "  docs.append(doc)\n"
   ]
  },
  {
   "cell_type": "markdown",
   "metadata": {},
   "source": [
    "Each pdf will be a single string which will be available in this docs list."
   ]
  },
  {
   "cell_type": "code",
   "execution_count": 28,
   "metadata": {
    "colab": {
     "base_uri": "https://localhost:8080/",
     "height": 120
    },
    "executionInfo": {
     "elapsed": 1347,
     "status": "ok",
     "timestamp": 1611082455392,
     "user": {
      "displayName": "Varun Rana",
      "photoUrl": "",
      "userId": "00188788562004174296"
     },
     "user_tz": -330
    },
    "id": "ex7kWv-62CVK",
    "outputId": "07750fae-df1e-4f8a-e07f-2b2b465d6cac"
   },
   "outputs": [
    {
     "data": {
      "text/plain": [
       "'Everything You Ever Really Needed to Know About Personal FinanceOn Just One Page\\nby Trent Hamm - The Simple Dollar - http://www.thesimpledollar.com/\\n\\nIntroductionThe cover of this document tells you the whole story.  Everything you really need to know abut personal ﬁnance can be summarized in just one page.  Spend less than you earn.  Earn more.  Live frugal.  Do something sensible with the difference.  Control your own destiny.  All of the other writing out there on personal ﬁnance is just deta'"
      ]
     },
     "execution_count": 28,
     "metadata": {},
     "output_type": "execute_result"
    }
   ],
   "source": [
    "docs[0][0:500]      # 1st pdf "
   ]
  },
  {
   "cell_type": "code",
   "execution_count": 29,
   "metadata": {
    "id": "Lg0LzaRE6aCb"
   },
   "outputs": [
    {
     "data": {
      "text/plain": [
       "'\\n\\nHow to Measure\\nAnything\\nWorkbook\\n\\nDouglas W. Hubbar DHow to Measure\\nAnything\\nWorkbook\\nFinding the Value of  “Intangibles”   in Business\\nCover Design: Wiley\\nCover Images, © iStockphoto.com (clockwise from the top); © graphxarts, © elly99, \\n© derrrek, © procurator, © Olena_T, © miru5\\nCopyright © 2014 by Douglas W. Hubbard. All rights reserved.\\nPublished by John Wiley & Sons, Inc., Hoboken, New Jersey.\\nFirst edition published by John Wiley & Sons, Inc. in 2007. \\nSecond edition published by John W'"
      ]
     },
     "execution_count": 29,
     "metadata": {},
     "output_type": "execute_result"
    }
   ],
   "source": [
    "docs[1][0:500]      # 2nd pdf"
   ]
  },
  {
   "cell_type": "code",
   "execution_count": null,
   "metadata": {
    "id": "zkz0oJg97Oi-"
   },
   "outputs": [],
   "source": []
  }
 ],
 "metadata": {
  "colab": {
   "authorship_tag": "ABX9TyPs7fugcsweIKeoVE4pgfLD",
   "collapsed_sections": [],
   "name": "demovid2_Reading PDF Files.ipynb",
   "provenance": []
  },
  "kernelspec": {
   "display_name": "Python 3 (ipykernel)",
   "language": "python",
   "name": "python3"
  },
  "language_info": {
   "codemirror_mode": {
    "name": "ipython",
    "version": 3
   },
   "file_extension": ".py",
   "mimetype": "text/x-python",
   "name": "python",
   "nbconvert_exporter": "python",
   "pygments_lexer": "ipython3",
   "version": "3.7.7"
  }
 },
 "nbformat": 4,
 "nbformat_minor": 1
}
