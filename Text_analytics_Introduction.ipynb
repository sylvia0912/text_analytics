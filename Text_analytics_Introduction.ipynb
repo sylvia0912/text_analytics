{
 "cells": [
  {
   "cell_type": "markdown",
   "id": "3a155425",
   "metadata": {},
   "source": [
    "## Text Analytics"
   ]
  },
  {
   "cell_type": "markdown",
   "id": "32473c15",
   "metadata": {},
   "source": [
    "**Definition**\n",
    "\n",
    "Text mining / NLP"
   ]
  },
  {
   "attachments": {},
   "cell_type": "markdown",
   "id": "f06c1005",
   "metadata": {},
   "source": [
    "**Sources of text data**\n",
    "\n",
    "- Websites, emails, books and social media\n",
    "- Data can be structured (which follows a schema) or unstructured (does not follow a schema). Tabular data like csv, json, web logs fall into structured data while text, images, audio, video fall into unstructured data"
   ]
  },
  {
   "attachments": {},
   "cell_type": "markdown",
   "id": "f8f81614",
   "metadata": {},
   "source": [
    "**Applications of text analytics**\n",
    "\n",
    "Sentiment analysis, text classification (SMS/email), virtual assistant, text summarization in apps like inshorts, theme selection using unsupervised clustering also called as topic modelling."
   ]
  },
  {
   "attachments": {},
   "cell_type": "markdown",
   "id": "d4eab6fe",
   "metadata": {},
   "source": [
    "**Pitfalls / Challenges of text analytics**\n",
    "\n",
    "High chances of ambiguity since every person will express information in a different manner. There is less support for regional languages and high end systems are required."
   ]
  },
  {
   "attachments": {},
   "cell_type": "markdown",
   "id": "308e7242",
   "metadata": {},
   "source": [
    "**Python Libraries**\n",
    "\n",
    "NLTK, Spacy, Gensim, fasttext, TextBlob. RASA library is used for Chatbots."
   ]
  },
  {
   "attachments": {},
   "cell_type": "markdown",
   "id": "19144a95",
   "metadata": {},
   "source": [
    "**Process**\n",
    "\n",
    "Process followed in text analytics start from raw document, text pre-process (read, clean, annotate), vector representation (convert text to numbers), statistical analysis and visualization."
   ]
  },
  {
   "cell_type": "code",
   "execution_count": null,
   "id": "9af380f1",
   "metadata": {},
   "outputs": [],
   "source": []
  }
 ],
 "metadata": {
  "kernelspec": {
   "display_name": "Python 3 (ipykernel)",
   "language": "python",
   "name": "python3"
  },
  "language_info": {
   "codemirror_mode": {
    "name": "ipython",
    "version": 3
   },
   "file_extension": ".py",
   "mimetype": "text/x-python",
   "name": "python",
   "nbconvert_exporter": "python",
   "pygments_lexer": "ipython3",
   "version": "3.7.7"
  }
 },
 "nbformat": 4,
 "nbformat_minor": 5
}
