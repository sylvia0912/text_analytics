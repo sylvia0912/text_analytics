{
 "cells": [
  {
   "cell_type": "code",
   "execution_count": 1,
   "metadata": {
    "colab": {
     "base_uri": "https://localhost:8080/",
     "height": 35
    },
    "executionInfo": {
     "elapsed": 1120,
     "status": "ok",
     "timestamp": 1611056322310,
     "user": {
      "displayName": "Varun Rana",
      "photoUrl": "",
      "userId": "00188788562004174296"
     },
     "user_tz": -330
    },
    "id": "Rmee-EnpbRth",
    "outputId": "be6b8c41-df9f-479a-d312-a173650bb71e"
   },
   "outputs": [
    {
     "data": {
      "text/plain": [
       "'/Users/sylvia/Desktop/IITR/M6_text_analytics/Times_Demo_Videos'"
      ]
     },
     "execution_count": 1,
     "metadata": {},
     "output_type": "execute_result"
    }
   ],
   "source": [
    "pwd"
   ]
  },
  {
   "cell_type": "markdown",
   "metadata": {
    "id": "huZ19MGAbS-J"
   },
   "source": [
    "## **Reading text files in python**\n",
    "* Reading text data from text files\n",
    "* How to write text data in new text file\n",
    "* How to append text data in an existing text file"
   ]
  },
  {
   "cell_type": "markdown",
   "metadata": {
    "id": "7a3wBfBOb6ib"
   },
   "source": [
    "## Open file in read mode"
   ]
  },
  {
   "cell_type": "code",
   "execution_count": 2,
   "metadata": {},
   "outputs": [],
   "source": [
    "# !pip install -U -q PyDrive"
   ]
  },
  {
   "cell_type": "code",
   "execution_count": 3,
   "metadata": {
    "id": "PEpwgmaBfDPs"
   },
   "outputs": [],
   "source": [
    "# from pydrive.auth import GoogleAuth\n",
    "# from pydrive.drive import GoogleDrive\n",
    "# from google.colab import auth\n",
    "# from oauth2client.client import GoogleCredentials"
   ]
  },
  {
   "cell_type": "code",
   "execution_count": 4,
   "metadata": {
    "id": "5-3_UNAkfDcB"
   },
   "outputs": [],
   "source": [
    "# auth.authenticate_user()\n",
    "# gauth = GoogleAuth()\n",
    "# gauth.credentials = GoogleCredentials.get_application_default()\n",
    "# drive = GoogleDrive(gauth)"
   ]
  },
  {
   "cell_type": "code",
   "execution_count": 5,
   "metadata": {
    "id": "WzSQok0XcgJS"
   },
   "outputs": [],
   "source": [
    "# downloaded = drive.CreateFile({'id':'1JXDNWYjCtuwnbcc2YLgcz76gHMOD7G97'}) # replace the id with id of file you want to access\n",
    "# downloaded.GetContentFile('sample_text.txt') "
   ]
  },
  {
   "cell_type": "markdown",
   "metadata": {},
   "source": [
    "There are different modes to open a file including read, write and append mode."
   ]
  },
  {
   "cell_type": "code",
   "execution_count": 6,
   "metadata": {
    "id": "M5nAjGK3e-MH"
   },
   "outputs": [],
   "source": [
    "path = '/Users/sylvia/Desktop/datasets/sample_text.txt'\n",
    "file = open(path, 'r')"
   ]
  },
  {
   "cell_type": "code",
   "execution_count": 7,
   "metadata": {
    "colab": {
     "base_uri": "https://localhost:8080/",
     "height": 35
    },
    "executionInfo": {
     "elapsed": 1186,
     "status": "ok",
     "timestamp": 1611057471900,
     "user": {
      "displayName": "Varun Rana",
      "photoUrl": "",
      "userId": "00188788562004174296"
     },
     "user_tz": -330
    },
    "id": "WS-C1O6ZfX0-",
    "outputId": "08ea1a0a-fe21-41ff-e6d7-bebe3f3cb813"
   },
   "outputs": [
    {
     "data": {
      "text/plain": [
       "'NER3. Named Entity Recognition\\n'"
      ]
     },
     "execution_count": 7,
     "metadata": {},
     "output_type": "execute_result"
    }
   ],
   "source": [
    "file.readline() # 1st line in sample_text"
   ]
  },
  {
   "cell_type": "markdown",
   "metadata": {},
   "source": [
    "\\n will signify to python that second line will start after this. \\n stands for newline."
   ]
  },
  {
   "cell_type": "code",
   "execution_count": 8,
   "metadata": {
    "colab": {
     "base_uri": "https://localhost:8080/",
     "height": 35
    },
    "executionInfo": {
     "elapsed": 784,
     "status": "ok",
     "timestamp": 1611057472445,
     "user": {
      "displayName": "Varun Rana",
      "photoUrl": "",
      "userId": "00188788562004174296"
     },
     "user_tz": -330
    },
    "id": "OsNzMQWhf0_2",
    "outputId": "4c994584-59d8-40e2-c6f1-e8413eaa38c0"
   },
   "outputs": [
    {
     "data": {
      "text/plain": [
       "'\\n'"
      ]
     },
     "execution_count": 8,
     "metadata": {},
     "output_type": "execute_result"
    }
   ],
   "source": [
    "file.readline() # Here python remembered that the cursor was on second line by seeing the '\\n' at the end of 1st line and hence will be able to read the second line"
   ]
  },
  {
   "cell_type": "markdown",
   "metadata": {
    "id": "AA8k09sXg1L-"
   },
   "source": [
    "If we don't want python to read from the current cursor position and go back to starting position in file, we can use file.seek()"
   ]
  },
  {
   "cell_type": "code",
   "execution_count": 9,
   "metadata": {
    "colab": {
     "base_uri": "https://localhost:8080/",
     "height": 35
    },
    "executionInfo": {
     "elapsed": 1345,
     "status": "ok",
     "timestamp": 1611058568040,
     "user": {
      "displayName": "Varun Rana",
      "photoUrl": "",
      "userId": "00188788562004174296"
     },
     "user_tz": -330
    },
    "id": "dG_jX_14gFBb",
    "outputId": "2870dd42-6cd0-4db7-e0ae-aad0741a4bdf"
   },
   "outputs": [
    {
     "data": {
      "text/plain": [
       "'NER3. Named Entity Recognition\\n'"
      ]
     },
     "execution_count": 9,
     "metadata": {},
     "output_type": "execute_result"
    }
   ],
   "source": [
    "file.seek(0) # using zero to move to the begining of the file\n",
    "file.readline() "
   ]
  },
  {
   "cell_type": "markdown",
   "metadata": {},
   "source": [
    "If you want to read everything at once, use readlines() instead of readline()"
   ]
  },
  {
   "cell_type": "code",
   "execution_count": 10,
   "metadata": {
    "colab": {
     "base_uri": "https://localhost:8080/"
    },
    "executionInfo": {
     "elapsed": 1034,
     "status": "ok",
     "timestamp": 1611058656086,
     "user": {
      "displayName": "Varun Rana",
      "photoUrl": "",
      "userId": "00188788562004174296"
     },
     "user_tz": -330
    },
    "id": "-QvxcQpZktWM",
    "outputId": "60112617-d47a-455b-f949-3e742c30d159"
   },
   "outputs": [
    {
     "data": {
      "text/plain": [
       "['NER3. Named Entity Recognition\\n',\n",
       " '\\n',\n",
       " '3. Named Entity Recognition\\n',\n",
       " '\\n',\n",
       " ' 3. Named Entity Recognition\\n',\n",
       " '3. Named Entity Recognition\\n']"
      ]
     },
     "execution_count": 10,
     "metadata": {},
     "output_type": "execute_result"
    }
   ],
   "source": [
    "file.seek(0) \n",
    "lines = file.readlines() # it's readline with 's'\n",
    "lines"
   ]
  },
  {
   "cell_type": "markdown",
   "metadata": {},
   "source": [
    "print will recognise '\\n' so you will not be able to see '\\n' in print statements. "
   ]
  },
  {
   "cell_type": "code",
   "execution_count": 11,
   "metadata": {},
   "outputs": [
    {
     "name": "stdout",
     "output_type": "stream",
     "text": [
      "NER3. Named Entity Recognition\n",
      "\n"
     ]
    }
   ],
   "source": [
    "# To see content of 1st line\n",
    "\n",
    "print(lines[0])"
   ]
  },
  {
   "cell_type": "code",
   "execution_count": 12,
   "metadata": {},
   "outputs": [
    {
     "name": "stdout",
     "output_type": "stream",
     "text": [
      "\n",
      "\n"
     ]
    }
   ],
   "source": [
    "# To see 3rd line\n",
    "print(lines[3])"
   ]
  },
  {
   "cell_type": "code",
   "execution_count": 13,
   "metadata": {},
   "outputs": [
    {
     "name": "stdout",
     "output_type": "stream",
     "text": [
      " 3. Named Entity Recognition\n",
      "\n"
     ]
    }
   ],
   "source": [
    "# To see 4th line\n",
    "print(lines[4])"
   ]
  },
  {
   "cell_type": "markdown",
   "metadata": {
    "id": "da_UJ8Ucllw2"
   },
   "source": [
    "## Open file in write mode"
   ]
  },
  {
   "cell_type": "markdown",
   "metadata": {},
   "source": [
    "'w'- write mode. If the file is not there it will create a new one and if file is there it will overwrite the existing one. "
   ]
  },
  {
   "cell_type": "code",
   "execution_count": 14,
   "metadata": {
    "colab": {
     "base_uri": "https://localhost:8080/"
    },
    "executionInfo": {
     "elapsed": 1032,
     "status": "ok",
     "timestamp": 1611059175352,
     "user": {
      "displayName": "Varun Rana",
      "photoUrl": "",
      "userId": "00188788562004174296"
     },
     "user_tz": -330
    },
    "id": "MrVFtBvzlC8B",
    "outputId": "95a838cb-51df-4766-f4a6-c265adc736f2"
   },
   "outputs": [
    {
     "data": {
      "text/plain": [
       "79"
      ]
     },
     "execution_count": 14,
     "metadata": {},
     "output_type": "execute_result"
    }
   ],
   "source": [
    "file = open(path, 'w')\n",
    "file.write('Text Analystics\\n1. Sentiment analysis\\n2. Text Classification\\n3. Topic modelling') \n",
    "# Keep adding \\n at the end of last line to add new info from new line instead \n",
    "# of adding to the last line "
   ]
  },
  {
   "cell_type": "code",
   "execution_count": 15,
   "metadata": {
    "colab": {
     "base_uri": "https://localhost:8080/"
    },
    "executionInfo": {
     "elapsed": 1318,
     "status": "ok",
     "timestamp": 1611058972878,
     "user": {
      "displayName": "Varun Rana",
      "photoUrl": "",
      "userId": "00188788562004174296"
     },
     "user_tz": -330
    },
    "id": "-y7DYCWsmJlo",
    "outputId": "3d02375c-d780-4ea9-cffd-9c33dc325d0d"
   },
   "outputs": [
    {
     "data": {
      "text/plain": [
       "['Text Analystics\\n',\n",
       " '1. Sentiment analysis\\n',\n",
       " '2. Text Classification\\n',\n",
       " '3. Topic modelling']"
      ]
     },
     "execution_count": 15,
     "metadata": {},
     "output_type": "execute_result"
    }
   ],
   "source": [
    "file = open(path, 'r')\n",
    "file.readlines()"
   ]
  },
  {
   "cell_type": "code",
   "execution_count": 16,
   "metadata": {},
   "outputs": [
    {
     "data": {
      "text/plain": [
       "3"
      ]
     },
     "execution_count": 16,
     "metadata": {},
     "output_type": "execute_result"
    }
   ],
   "source": [
    "file = open(path, 'w')\n",
    "file.write('NER')        # Existing file is overwritten."
   ]
  },
  {
   "cell_type": "code",
   "execution_count": 17,
   "metadata": {},
   "outputs": [
    {
     "data": {
      "text/plain": [
       "['NER']"
      ]
     },
     "execution_count": 17,
     "metadata": {},
     "output_type": "execute_result"
    }
   ],
   "source": [
    "file = open(path, 'r')\n",
    "file.readlines()"
   ]
  },
  {
   "cell_type": "markdown",
   "metadata": {
    "id": "D7Iid_b4mW9f"
   },
   "source": [
    "## Open file in Append mode\n",
    " * We don't need to add '\\n' at the end of last line\n",
    " * This mode will place the cursor automatically at the end of the file."
   ]
  },
  {
   "cell_type": "code",
   "execution_count": 18,
   "metadata": {
    "colab": {
     "base_uri": "https://localhost:8080/"
    },
    "executionInfo": {
     "elapsed": 924,
     "status": "ok",
     "timestamp": 1611059303862,
     "user": {
      "displayName": "Varun Rana",
      "photoUrl": "",
      "userId": "00188788562004174296"
     },
     "user_tz": -330
    },
    "id": "qLIwkOBumQNd",
    "outputId": "36abaaed-d5ec-4030-8c84-a02dca440742"
   },
   "outputs": [
    {
     "data": {
      "text/plain": [
       "28"
      ]
     },
     "execution_count": 18,
     "metadata": {},
     "output_type": "execute_result"
    }
   ],
   "source": [
    "file = open(path, 'a')\n",
    "file.write('3. Named Entity Recognition\\n')"
   ]
  },
  {
   "cell_type": "code",
   "execution_count": 19,
   "metadata": {
    "colab": {
     "base_uri": "https://localhost:8080/"
    },
    "executionInfo": {
     "elapsed": 941,
     "status": "ok",
     "timestamp": 1611059324037,
     "user": {
      "displayName": "Varun Rana",
      "photoUrl": "",
      "userId": "00188788562004174296"
     },
     "user_tz": -330
    },
    "id": "MEsfUNIxnhGF",
    "outputId": "db948e1c-2406-480e-cc8c-135f9b31edcb"
   },
   "outputs": [
    {
     "data": {
      "text/plain": [
       "['NER3. Named Entity Recognition\\n']"
      ]
     },
     "execution_count": 19,
     "metadata": {},
     "output_type": "execute_result"
    }
   ],
   "source": [
    "file = open(path, 'r')\n",
    "file.readlines()"
   ]
  },
  {
   "cell_type": "code",
   "execution_count": 20,
   "metadata": {},
   "outputs": [
    {
     "data": {
      "text/plain": [
       "30"
      ]
     },
     "execution_count": 20,
     "metadata": {},
     "output_type": "execute_result"
    }
   ],
   "source": [
    "file = open(path, 'a')\n",
    "file.write('\\n 3. Named Entity Recognition\\n')"
   ]
  },
  {
   "cell_type": "code",
   "execution_count": 21,
   "metadata": {},
   "outputs": [
    {
     "data": {
      "text/plain": [
       "['NER3. Named Entity Recognition\\n', '\\n', ' 3. Named Entity Recognition\\n']"
      ]
     },
     "execution_count": 21,
     "metadata": {},
     "output_type": "execute_result"
    }
   ],
   "source": [
    "file = open(path, 'r')\n",
    "file.readlines()"
   ]
  },
  {
   "cell_type": "code",
   "execution_count": null,
   "metadata": {},
   "outputs": [],
   "source": []
  }
 ],
 "metadata": {
  "colab": {
   "authorship_tag": "ABX9TyPwjbA+Nq0mIM2KrobPT/LE",
   "collapsed_sections": [],
   "name": "demovid1_Reading Text Files.ipynb",
   "provenance": []
  },
  "kernelspec": {
   "display_name": "Python 3 (ipykernel)",
   "language": "python",
   "name": "python3"
  },
  "language_info": {
   "codemirror_mode": {
    "name": "ipython",
    "version": 3
   },
   "file_extension": ".py",
   "mimetype": "text/x-python",
   "name": "python",
   "nbconvert_exporter": "python",
   "pygments_lexer": "ipython3",
   "version": "3.7.7"
  }
 },
 "nbformat": 4,
 "nbformat_minor": 1
}
